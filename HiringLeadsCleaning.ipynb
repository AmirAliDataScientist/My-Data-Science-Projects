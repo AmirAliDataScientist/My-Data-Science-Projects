{
 "cells": [
  {
   "cell_type": "code",
   "execution_count": 501,
   "id": "5547f034-4839-436a-8743-ebd164d42591",
   "metadata": {},
   "outputs": [],
   "source": [
    "import pandas as pd\n",
    "import os\n",
    "import numpy as np\n",
    "import sqlite3"
   ]
  },
  {
   "cell_type": "markdown",
   "id": "045c765f-a5f5-4a6e-bcc4-fe77816baff3",
   "metadata": {},
   "source": [
    "**Step 1**"
   ]
  },
  {
   "cell_type": "code",
   "execution_count": 504,
   "id": "464b534e-4a20-4d0f-b32a-e45773ae9fdc",
   "metadata": {},
   "outputs": [
    {
     "data": {
      "text/plain": [
       "8194"
      ]
     },
     "execution_count": 504,
     "metadata": {},
     "output_type": "execute_result"
    }
   ],
   "source": [
    "#Lets load the scrapped data\n",
    "all_scrabbed = pd.read_csv('C:\\\\Users\\\\amir\\\\OneDrive\\\\Desktop\\\\New Hiring lead process\\\\Using python\\\\All scrapped leads\\\\March 25 all scrapped 025.csv')\n",
    "len(all_scrabbed)"
   ]
  },
  {
   "cell_type": "code",
   "execution_count": 506,
   "id": "09fb31f7-d609-48a3-9c36-d2b6030bbaf7",
   "metadata": {},
   "outputs": [
    {
     "data": {
      "text/plain": [
       "1915"
      ]
     },
     "execution_count": 506,
     "metadata": {},
     "output_type": "execute_result"
    }
   ],
   "source": [
    "#We need to remove the duplicate companies from the data\n",
    "\n",
    "all_scrabbed = all_scrabbed.drop_duplicates(subset='Company Name', keep='first')\n",
    "all_scrabbed = all_scrabbed.dropna(subset = ['Company Name'])\n",
    "len(all_scrabbed)"
   ]
  },
  {
   "cell_type": "code",
   "execution_count": 508,
   "id": "ec08df49-876b-4ffc-9fc5-549a0910b527",
   "metadata": {},
   "outputs": [
    {
     "data": {
      "text/plain": [
       "Index(['Unnamed: 0', 'Company Name', 'Job Posting', 'Location',\n",
       "       'Job Post date', 'Job links', 'Unnamed: 6'],\n",
       "      dtype='object')"
      ]
     },
     "execution_count": 508,
     "metadata": {},
     "output_type": "execute_result"
    }
   ],
   "source": [
    "all_scrabbed.columns"
   ]
  },
  {
   "cell_type": "code",
   "execution_count": 510,
   "id": "3c352b1a-8031-4027-a803-0e1155d842f0",
   "metadata": {},
   "outputs": [
    {
     "data": {
      "text/plain": [
       "1829"
      ]
     },
     "execution_count": 510,
     "metadata": {},
     "output_type": "execute_result"
    }
   ],
   "source": [
    "#Lets remove all the Bad Job Posts scrapped unintentionally\n",
    "url = \"https://docs.google.com/spreadsheets/d/e/2PACX-1vSUQsbmb3MlADPi5q92Eeh5W6nwa8sgszHtctytwl_y2nlUnkJOHj377DJzasaugC_z7yrDU0FKA9cC/pub?gid=0&single=true&output=csv\"\n",
    "badtitle = pd.read_csv(url)\n",
    "bad_job_post_list = badtitle['Bad Job Title'].tolist()\n",
    "\n",
    "all_scrabbed = all_scrabbed[~all_scrabbed['Job Posting'].isin(bad_job_post_list)]#deleting the created list from Job posts column\n",
    "len(all_scrabbed)"
   ]
  },
  {
   "cell_type": "code",
   "execution_count": null,
   "id": "508a834b-4c04-4863-9324-c9381b010973",
   "metadata": {},
   "outputs": [],
   "source": []
  },
  {
   "cell_type": "code",
   "execution_count": 512,
   "id": "acfd3e5d-ee44-48d5-b68b-8d9910a08744",
   "metadata": {},
   "outputs": [],
   "source": [
    "# \n",
    "# all_scrabbed.to_csv('C:\\\\Users\\\\amir\\\\OneDrive\\\\Desktop\\\\New Hiring lead process\\\\Using python\\\\All scrapped leads\\\\Cleaned scrapped data\\\\25 march scrabbed_leads_without_duplicate.csv')"
   ]
  },
  {
   "cell_type": "markdown",
   "id": "6a07a263-84d0-4dcf-b446-6b9f170e11bb",
   "metadata": {},
   "source": [
    "**Step 2**"
   ]
  },
  {
   "cell_type": "markdown",
   "id": "d2883c28-1122-4d56-8e42-3f8038f02e18",
   "metadata": {},
   "source": [
    "1. Make sure in the master apollo all the companies should have company linkedin otherwise it will create a issue while mapping Job posting, job link SD-Team_size"
   ]
  },
  {
   "cell_type": "markdown",
   "id": "1eb6e07e-6a41-4662-a695-163ef62de1c9",
   "metadata": {},
   "source": [
    "1.1 Sort the company name A-Z so that all the missing company linkedin links visible clearly "
   ]
  },
  {
   "cell_type": "markdown",
   "id": "a674886a-6402-48a0-a30b-35a0563eedd2",
   "metadata": {},
   "source": [
    "2. Make sure job poting and job link does not have blanks or #NA vlaues\n"
   ]
  },
  {
   "cell_type": "markdown",
   "id": "d8776b5e-1fc6-4f20-9936-2b0aed071d87",
   "metadata": {},
   "source": [
    "3. We also need to remove #n/a from job post and job link"
   ]
  },
  {
   "cell_type": "markdown",
   "id": "71aa0e3e-78a3-40b4-8b34-f3be076fba3f",
   "metadata": {},
   "source": [
    "4. We need to add companies simplified names at the end of the process."
   ]
  },
  {
   "cell_type": "markdown",
   "id": "ce5c80ec-4546-4b9d-bedc-a00e2f613c09",
   "metadata": {},
   "source": [
    "**5. We must short the urls before uploading the data**"
   ]
  },
  {
   "cell_type": "markdown",
   "id": "440f13e4-a753-4893-b598-631574bef37e",
   "metadata": {},
   "source": [
    "6. While Creating master sheet make sure to remove all the duplicates through the linkedin link, otherwise it will not match the SD-team size and other column correctly"
   ]
  },
  {
   "cell_type": "markdown",
   "id": "f6680ecf-51b3-4f26-a6aa-e7a54c7a9bd7",
   "metadata": {},
   "source": [
    "7. We need to clean the active sequence"
   ]
  },
  {
   "cell_type": "code",
   "execution_count": 524,
   "id": "06f72d32-9b44-4dd2-8ecf-bf5c4f34e612",
   "metadata": {},
   "outputs": [
    {
     "data": {
      "text/plain": [
       "1087"
      ]
     },
     "execution_count": 524,
     "metadata": {},
     "output_type": "execute_result"
    }
   ],
   "source": [
    "#Lets upload the apollo master sheet\n",
    "dfapollo = pd.read_csv('C:\\\\Users\\\\amir\\\\OneDrive\\\\Desktop\\\\New Hiring lead process\\\\Using python\\\\Apollo master sheet\\\\From Apollo\\\\March 25 hiring 025 - All Apollo.csv')\n",
    "len(dfapollo)"
   ]
  },
  {
   "cell_type": "markdown",
   "id": "cd02f8b2-5926-4e28-9890-6f68e9d96645",
   "metadata": {},
   "source": [
    "**we already know that Apollo's data linkedin links and Cognism data linkedin link is not matched**"
   ]
  },
  {
   "cell_type": "code",
   "execution_count": 527,
   "id": "d08de3a5-4a28-4054-8cab-1d79ba8c5643",
   "metadata": {},
   "outputs": [
    {
     "name": "stdout",
     "output_type": "stream",
     "text": [
      "http://www.linkedin.com/in/christopher-murray1986\n",
      "http://www.linkedin.com/company/capstone-investment-advisors\n"
     ]
    }
   ],
   "source": [
    "print(dfapollo['linkedin_url'][0]) # in the below linkedin we can see it has on http instead https\n",
    "print(dfapollo['company_linkedin_url'][100])"
   ]
  },
  {
   "cell_type": "code",
   "execution_count": 529,
   "id": "6f74c889-71b6-4063-be03-4c10e8cd079f",
   "metadata": {},
   "outputs": [
    {
     "name": "stdout",
     "output_type": "stream",
     "text": [
      "https://www.linkedin.com/in/christopher-murray1986\n",
      "https://www.linkedin.com/company/capstone-investment-advisors\n"
     ]
    }
   ],
   "source": [
    "#we have linkedin link start from http, we are correcting them with https so that this could become our primary key\n",
    "dfapollo['linkedin_url'] = dfapollo['linkedin_url'].str.replace('http://','https://', regex = False) #replaced http with https\n",
    "print(dfapollo['linkedin_url'][0])\n",
    "dfapollo['company_linkedin_url'] = dfapollo['company_linkedin_url'].str.replace('http://','https://', regex = False) #replaced http with https\n",
    "print(dfapollo['company_linkedin_url'][100])"
   ]
  },
  {
   "cell_type": "code",
   "execution_count": 531,
   "id": "bf53c479-6f74-4011-bccb-edee6bf2362b",
   "metadata": {},
   "outputs": [
    {
     "data": {
      "text/plain": [
       "Index(['linkedin_url', 'full_name', 'first_name', 'last_name', 'email',\n",
       "       'email validation', 'job_title', 'company', 'company_website', 'city',\n",
       "       'state', 'country', 'industry', 'keywords', 'employees', 'company_city',\n",
       "       'company_state', 'company_country', 'company_linkedin_url',\n",
       "       'company_twitter_url', 'company_facebook_url', 'twitter_url',\n",
       "       'facebook_url', 'company_about', 'Job Posting', 'Full Links',\n",
       "       'Job Link', 'SD Team'],\n",
       "      dtype='object')"
      ]
     },
     "execution_count": 531,
     "metadata": {},
     "output_type": "execute_result"
    }
   ],
   "source": [
    "dfapollo.columns"
   ]
  },
  {
   "cell_type": "code",
   "execution_count": 533,
   "id": "274ad495-07c7-441e-8064-1d4b0328276b",
   "metadata": {},
   "outputs": [],
   "source": [
    "#lets rename the linkedin column name as well\n",
    "dfapollo = dfapollo.rename(columns={'linkedin_url': 'linkedin_link'})\n",
    "dfapollo = dfapollo.rename(columns={'company_linkedin_url': 'company_linkedin_link'})\n",
    "dfapollo = dfapollo.rename(columns={'SD Team': 'sd_team_size'})\n",
    "dfapollo = dfapollo.rename(columns={'company_website':'website'})\n",
    "dfapollo = dfapollo.rename(columns = {'Job Link':'job link'})\n",
    "dfapollo = dfapollo.rename(columns={'Full Links': 'full links'})"
   ]
  },
  {
   "cell_type": "code",
   "execution_count": 535,
   "id": "0c5289d9-c82a-4d9f-aefe-f05cfb1b383c",
   "metadata": {},
   "outputs": [
    {
     "data": {
      "text/plain": [
       "1087"
      ]
     },
     "execution_count": 535,
     "metadata": {},
     "output_type": "execute_result"
    }
   ],
   "source": [
    "#lets remove duplicates from linkedin link so that this could be treated as primary key\n",
    "dfapollo = dfapollo.drop_duplicates(subset = 'linkedin_link', keep = 'first')\n",
    "len(dfapollo)"
   ]
  },
  {
   "cell_type": "code",
   "execution_count": 537,
   "id": "8f6fba6a-84cc-4067-a090-9930ab08e439",
   "metadata": {},
   "outputs": [],
   "source": [
    "#below given columns are not usefull in apollo data lets delete them as well\n",
    "apollo_col_need_to_delete =['company_twitter_url','company_facebook_url', 'twitter_url', 'facebook_url','city', 'state', 'country']\n",
    "dfapollo.drop(columns=apollo_col_need_to_delete, inplace=True)\n"
   ]
  },
  {
   "cell_type": "code",
   "execution_count": 539,
   "id": "be542ec5-6c00-405e-a400-6d02df4ce87d",
   "metadata": {},
   "outputs": [
    {
     "data": {
      "text/plain": [
       "Index(['linkedin_link', 'full_name', 'first_name', 'last_name', 'email',\n",
       "       'email validation', 'job_title', 'company', 'website', 'industry',\n",
       "       'keywords', 'employees', 'company_city', 'company_state',\n",
       "       'company_country', 'company_linkedin_link', 'company_about',\n",
       "       'Job Posting', 'full links', 'job link', 'sd_team_size'],\n",
       "      dtype='object')"
      ]
     },
     "execution_count": 539,
     "metadata": {},
     "output_type": "execute_result"
    }
   ],
   "source": [
    "dfapollo.columns"
   ]
  },
  {
   "cell_type": "code",
   "execution_count": 541,
   "id": "e096df2d-8cdf-4603-8de5-05b565b57ad1",
   "metadata": {},
   "outputs": [
    {
     "name": "stdout",
     "output_type": "stream",
     "text": [
      "1087\n",
      "21\n"
     ]
    }
   ],
   "source": [
    "print(len(dfapollo))\n",
    "print(len(dfapollo.columns))"
   ]
  },
  {
   "cell_type": "markdown",
   "id": "3e9031d5-9e51-4bd0-928a-850411cba2c3",
   "metadata": {},
   "source": [
    "**Step 3**"
   ]
  },
  {
   "cell_type": "markdown",
   "id": "35db0864-ef81-4f62-bad4-5f67e99f3bab",
   "metadata": {},
   "source": [
    "**Lets upload and perform cleaning on cognism sheet**"
   ]
  },
  {
   "cell_type": "code",
   "execution_count": 545,
   "id": "266fa009-8bca-4628-a800-bab2375f0a9f",
   "metadata": {},
   "outputs": [
    {
     "data": {
      "text/plain": [
       "1228"
      ]
     },
     "execution_count": 545,
     "metadata": {},
     "output_type": "execute_result"
    }
   ],
   "source": [
    "#lets upload cognism data\n",
    "cognismdata = pd.read_csv('C:\\\\Users\\\\amir\\\\OneDrive\\\\Desktop\\\\New Hiring lead process\\\\Using python\\\\Cognism data\\\\March 25 Hiring leads 025.csv')\n",
    "len(cognismdata)"
   ]
  },
  {
   "cell_type": "code",
   "execution_count": 547,
   "id": "725582b4-3cbb-4277-9cad-ff97297cc4f2",
   "metadata": {},
   "outputs": [
    {
     "data": {
      "text/plain": [
       "Index(['Profile ID', 'First Name', 'Last Name', 'sId', 'List Name', 'Email',\n",
       "       'Email Quality', 'Lead Source', 'Education', 'Personal Linkedin URL',\n",
       "       'Company Name', 'Company Alias', 'Job Title', 'Country', 'City',\n",
       "       'State', 'Mobile', 'Direct', 'Office', 'HQ', 'Website', 'Headcount',\n",
       "       'Industries', 'Department', 'Company Address Line', 'Company City',\n",
       "       'Company Post Code/ZIP', 'Company County/State', 'Company Country',\n",
       "       'Company HQ Address Line', 'Company HQ City',\n",
       "       'Company HQ Post Code/ZIP', 'Company HQ County/State',\n",
       "       'Company HQ Country', 'Company Linkedin URL', 'Company Type',\n",
       "       'Company Description', 'Technologies', 'Financials',\n",
       "       'Company Founded Year', 'Seniority', 'Hiring Title 1', 'Hiring URL 1',\n",
       "       'Hiring Location 1', 'Hiring Date 1', 'Hiring Title 2', 'Hiring URL 2',\n",
       "       'Hiring Location 2', 'Hiring Date 2', 'Hiring Title 3', 'Hiring URL 3',\n",
       "       'Hiring Location 3', 'Hiring Date 3', 'Hiring Title 4', 'Hiring URL 4',\n",
       "       'Hiring Location 4', 'Hiring Date 4', 'Hiring Title 5', 'Hiring URL 5',\n",
       "       'Hiring Location 5', 'Hiring Date 5', 'Location Move - From Country',\n",
       "       'Location Move - From State', 'Location Move - To Country',\n",
       "       'Location Move - To State', 'Location Move Date',\n",
       "       'Job Change - Previous Company', 'Job Change - Previous Title',\n",
       "       'Job Change - New Company', 'Job Change - New Title',\n",
       "       'Job Change Date'],\n",
       "      dtype='object')"
      ]
     },
     "execution_count": 547,
     "metadata": {},
     "output_type": "execute_result"
    }
   ],
   "source": [
    "cognismdata.columns"
   ]
  },
  {
   "cell_type": "code",
   "execution_count": 549,
   "id": "f76df292-83d4-46f2-8aa0-49cb5e631718",
   "metadata": {},
   "outputs": [],
   "source": [
    "#Lets create a list of unwanted columns of cognism\n",
    "cog_col_need_to_delete =[\n",
    "'sId'\n",
    ",'Lead Source'\n",
    ",'Education'\n",
    ",'Company Alias'\n",
    ",'Direct'\n",
    ",'Office'\n",
    ",'HQ'\n",
    ",'Department'\n",
    ",'Company Address Line'\n",
    ",'Company Post Code/ZIP'\n",
    ",'Financials'\n",
    ",'Company Founded Year'\n",
    ",'Seniority'\n",
    ",'Hiring Title 1'\n",
    ",'Hiring URL 1'\n",
    ",'Hiring Location 1'\n",
    ",'Hiring Date 1'\n",
    ",'Hiring Title 2'\n",
    ",'Hiring URL 2'\n",
    ",'Hiring Location 2'\n",
    ",'Hiring Date 2'\n",
    ",'Hiring Title 3'\n",
    ",'Hiring URL 3'\n",
    ",'Hiring Location 3'\n",
    ",'Hiring Date 3'\n",
    ",'Hiring Title 4'\n",
    ",'Hiring URL 4'\n",
    ",'Hiring Location 4'\n",
    ",'Hiring Date 4'\n",
    ",'Hiring Title 5'\n",
    ",'Hiring URL 5'\n",
    ",'Hiring Location 5'\n",
    ",'Hiring Date 5'\n",
    ",'Location Move - From Country'\n",
    ",'Location Move - From State'\n",
    ",'Location Move - To Country'\n",
    ",'Location Move - To State'\n",
    ",'Location Move Date'\n",
    ",'Job Change - Previous Company'\n",
    ",'Job Change - Previous Title'\n",
    ",'Job Change - New Company'\n",
    ",'Job Change - New Title'\n",
    ",'Job Change Date'\n",
    ",'Profile ID'\n",
    ",'Company Type'\n",
    ",'List Name'\n",
    " ,'Company HQ Address Line',\n",
    "'Company HQ City', \n",
    "'Company HQ Post Code/ZIP',\n",
    "'Company HQ County/State', \n",
    "'Company HQ Country', 'Country', 'City','State']\n",
    "# ['SIC', 'ISIC', 'NAICS']"
   ]
  },
  {
   "cell_type": "code",
   "execution_count": 551,
   "id": "438c1481-9f81-4b37-b2b0-b3b0912dd7b6",
   "metadata": {},
   "outputs": [],
   "source": [
    "#Lets delete the created list from cognism data\n",
    "cognismdata.drop(columns=cog_col_need_to_delete, inplace=True)"
   ]
  },
  {
   "cell_type": "code",
   "execution_count": 553,
   "id": "a9eb525c-3169-4676-9132-50dd8f54498c",
   "metadata": {},
   "outputs": [
    {
     "data": {
      "text/plain": [
       "17"
      ]
     },
     "execution_count": 553,
     "metadata": {},
     "output_type": "execute_result"
    }
   ],
   "source": [
    "len(cognismdata.columns)"
   ]
  },
  {
   "cell_type": "code",
   "execution_count": 555,
   "id": "859fe15e-097c-44f4-bd6c-e8c1c5b47d6c",
   "metadata": {},
   "outputs": [],
   "source": [
    "#lets rename the column names of the cognism sheet so that apollo coulumns and cognism column name match.\n",
    "#creating a list of old column name and new column names for cognims data\n",
    "column_mappings = [\n",
    "    ('Personal Linkedin URL', 'linkedin_link'),\n",
    "    ('First Name', 'first_name'),\n",
    "    ('Last Name', 'last_name'),\n",
    "    ('Job Title','job_title'),\n",
    "    ('Company Name','company'),\n",
    "    ('Industries','industry'),\n",
    "    ('Technologies','keywords'),\n",
    "    ('Headcount','employees'),\n",
    "    ('Company County/State','company_state'),\n",
    "    ('Company Country','company_country'),\n",
    "    ('Company Linkedin URL','company_linkedin_link'),\n",
    "    ('Company Description','company_about'),\n",
    "    ('Email','email'),\n",
    "    ('Company City','company_city'),\n",
    "    ('Mobile','mobile'),\n",
    "    ('Email Quality','email_validation')\n",
    "]\n",
    "\n",
    "dic_column_mapping = dict(column_mappings)\n",
    "cognismdata.rename(columns=dic_column_mapping, inplace=True)\n"
   ]
  },
  {
   "cell_type": "code",
   "execution_count": 557,
   "id": "b71640f2-f1d1-462a-a9c9-6cba02f6d534",
   "metadata": {},
   "outputs": [
    {
     "data": {
      "text/plain": [
       "Index(['first_name', 'last_name', 'email', 'email_validation', 'linkedin_link',\n",
       "       'company', 'job_title', 'mobile', 'Website', 'employees', 'industry',\n",
       "       'company_city', 'company_state', 'company_country',\n",
       "       'company_linkedin_link', 'company_about', 'keywords'],\n",
       "      dtype='object')"
      ]
     },
     "execution_count": 557,
     "metadata": {},
     "output_type": "execute_result"
    }
   ],
   "source": [
    "cognismdata.columns"
   ]
  },
  {
   "cell_type": "code",
   "execution_count": 559,
   "id": "6ec11f21-004a-4eac-8625-9179f3eafafa",
   "metadata": {},
   "outputs": [
    {
     "data": {
      "text/plain": [
       "Index(['first_name', 'last_name', 'email', 'email_validation', 'linkedin_link',\n",
       "       'company', 'job_title', 'mobile', 'Website', 'employees', 'industry',\n",
       "       'company_city', 'company_state', 'company_country',\n",
       "       'company_linkedin_link', 'company_about', 'keywords', 'full_name'],\n",
       "      dtype='object')"
      ]
     },
     "execution_count": 559,
     "metadata": {},
     "output_type": "execute_result"
    }
   ],
   "source": [
    "#we need to add FUll NAME coulmn\n",
    "cognismdata['full_name'] = cognismdata['first_name'] + ' ' + cognismdata['last_name']\n",
    "cognismdata.columns"
   ]
  },
  {
   "cell_type": "code",
   "execution_count": 561,
   "id": "8178c760-025c-4a83-a9ac-f911617e493c",
   "metadata": {},
   "outputs": [],
   "source": [
    "#Lets rearrange cognism column to verify what need to do next with apollo\n",
    "cognismdata = cognismdata[['linkedin_link','full_name','first_name','last_name','email_validation','email','job_title','company','Website',\n",
    "                          'industry','keywords','employees','company_city','company_state','company_country','company_linkedin_link','company_about',\n",
    "                          'mobile']]"
   ]
  },
  {
   "cell_type": "code",
   "execution_count": 563,
   "id": "0ba33a2c-2ebb-49dd-b70d-0c9477598f77",
   "metadata": {},
   "outputs": [
    {
     "data": {
      "text/plain": [
       "Index(['linkedin_link', 'full_name', 'first_name', 'last_name',\n",
       "       'email_validation', 'email', 'job_title', 'company', 'Website',\n",
       "       'industry', 'keywords', 'employees', 'company_city', 'company_state',\n",
       "       'company_country', 'company_linkedin_link', 'company_about', 'mobile'],\n",
       "      dtype='object')"
      ]
     },
     "execution_count": 563,
     "metadata": {},
     "output_type": "execute_result"
    }
   ],
   "source": [
    "cognismdata.columns"
   ]
  },
  {
   "cell_type": "code",
   "execution_count": 565,
   "id": "1ce2fd0d-b0f6-4b71-ac96-546afc804bda",
   "metadata": {},
   "outputs": [
    {
     "data": {
      "text/plain": [
       "Index(['linkedin_link', 'full_name', 'first_name', 'last_name', 'email',\n",
       "       'email validation', 'job_title', 'company', 'website', 'industry',\n",
       "       'keywords', 'employees', 'company_city', 'company_state',\n",
       "       'company_country', 'company_linkedin_link', 'company_about',\n",
       "       'Job Posting', 'full links', 'job link', 'sd_team_size'],\n",
       "      dtype='object')"
      ]
     },
     "execution_count": 565,
     "metadata": {},
     "output_type": "execute_result"
    }
   ],
   "source": [
    "dfapollo.columns"
   ]
  },
  {
   "cell_type": "code",
   "execution_count": 567,
   "id": "fee0ed9e-bce8-4a54-9f57-0df5aa4990ab",
   "metadata": {},
   "outputs": [
    {
     "name": "stdout",
     "output_type": "stream",
     "text": [
      "21\n",
      "18\n"
     ]
    }
   ],
   "source": [
    "print(len(dfapollo.columns))\n",
    "print(len(cognismdata.columns))"
   ]
  },
  {
   "cell_type": "code",
   "execution_count": 569,
   "id": "05855c73-0631-41ca-8d0b-cb45a8059079",
   "metadata": {},
   "outputs": [],
   "source": [
    "# Strip leading/trailing spaces and convert to lowercase\n",
    "dfapollo.columns = dfapollo.columns.str.strip().str.lower()\n",
    "cognismdata.columns = cognismdata.columns.str.strip().str.lower()"
   ]
  },
  {
   "cell_type": "code",
   "execution_count": 571,
   "id": "b9346a0c-7f1b-4ae9-93d0-c8a205ec7645",
   "metadata": {},
   "outputs": [
    {
     "data": {
      "text/plain": [
       "Index(['linkedin_link', 'full_name', 'first_name', 'last_name',\n",
       "       'email_validation', 'email', 'job_title', 'company', 'website',\n",
       "       'industry', 'keywords', 'employees', 'company_city', 'company_state',\n",
       "       'company_country', 'company_linkedin_link', 'company_about', 'mobile'],\n",
       "      dtype='object')"
      ]
     },
     "execution_count": 571,
     "metadata": {},
     "output_type": "execute_result"
    }
   ],
   "source": [
    "cognismdata.columns"
   ]
  },
  {
   "cell_type": "markdown",
   "id": "e1f4ba49-4ec2-4f58-86ec-86a7ee9c39f6",
   "metadata": {},
   "source": [
    "Now we need to add mobile column to the dfapollo and need to add 'job postin','job link','SD_team_size','Extracognism' to the cognism data"
   ]
  },
  {
   "cell_type": "markdown",
   "id": "066ff860-d35e-4a61-afee-7f98f0162e2b",
   "metadata": {},
   "source": [
    "**Lets simultaneously add 'job postin','job link','sd_team size','extracognism' to the cognism data**"
   ]
  },
  {
   "cell_type": "code",
   "execution_count": 575,
   "id": "0b35c0ac-223b-449c-b643-01083847ee8b",
   "metadata": {},
   "outputs": [],
   "source": [
    "#Lets first map 'Job Posting', 'full links', 'job link', 'sd_team_size' to cognismdata\n",
    "lookup_dicts = {\n",
    "    'sd_team_size':dfapollo.set_index('company_linkedin_link')['sd_team_size'].to_dict(),\n",
    "    'job posting':dfapollo.set_index('company_linkedin_link')['job posting'].to_dict(),\n",
    "    'job link':dfapollo.set_index('company_linkedin_link')['job link'].to_dict(),\n",
    "    'full links':dfapollo.set_index('company_linkedin_link')['full links'].to_dict()\n",
    "}\n",
    "#lets map each column to cognism data\n",
    "for column_name, x in lookup_dicts.items():\n",
    "    cognismdata[column_name] = cognismdata['company_linkedin_link'].map(x)\n"
   ]
  },
  {
   "cell_type": "code",
   "execution_count": 577,
   "id": "7e6d4a6b-7d79-41f2-a70d-e586da0e8b9e",
   "metadata": {},
   "outputs": [
    {
     "data": {
      "text/plain": [
       "Index(['linkedin_link', 'full_name', 'first_name', 'last_name',\n",
       "       'email_validation', 'email', 'job_title', 'company', 'website',\n",
       "       'industry', 'keywords', 'employees', 'company_city', 'company_state',\n",
       "       'company_country', 'company_linkedin_link', 'company_about', 'mobile',\n",
       "       'sd_team_size', 'job posting', 'job link', 'full links'],\n",
       "      dtype='object')"
      ]
     },
     "execution_count": 577,
     "metadata": {},
     "output_type": "execute_result"
    }
   ],
   "source": [
    "cognismdata.columns"
   ]
  },
  {
   "cell_type": "code",
   "execution_count": 579,
   "id": "fc9ce4d6-a76a-4de8-94ba-52a859319e2a",
   "metadata": {},
   "outputs": [],
   "source": [
    "# Create a lookup dictionary from dfapollo for cognismdata so that we can have equal columns.\n",
    "# lookup_dict = dfapollo.set_index('company_linkedin_link')['sd_team_size'].to_dict()#Mapping and adding sd_team size col to cognims\n",
    "# # Add a new 'tag' column to dfapollo using the lookup dictionary\n",
    "# cognismdata['sd_team_size'] = dfapollo['company_linkedin_link'].map(lookup_dict)\n",
    "# print(cognismdata['sd_team_size'])"
   ]
  },
  {
   "cell_type": "code",
   "execution_count": 581,
   "id": "cb317f22-987c-497e-9d6b-55cd4c57451a",
   "metadata": {},
   "outputs": [],
   "source": [
    "# #Adding job posting to cognism data\n",
    "# lookup_dict = dfapollo.set_index('company_linkedin_link')['job posting'].to_dict()#Mapping and adding sd_team size col to cognims\n",
    "# # Add a new 'tag' column to dfapollo using the lookup dictionary\n",
    "# cognismdata['job posting'] = dfapollo['company_linkedin_link'].map(lookup_dict)\n",
    "# print(cognismdata['job posting'])"
   ]
  },
  {
   "cell_type": "code",
   "execution_count": 583,
   "id": "a5cb3be8-93a4-4c84-a660-e6e4054823f1",
   "metadata": {},
   "outputs": [],
   "source": [
    "#adding job link to cognism data\n",
    "# lookup_dict = dfapollo.set_index('company_linkedin_link')['job link'].to_dict()#Mapping and adding sd_team size col to cognims\n",
    "# # Add a new 'tag' column to dfapollo using the lookup dictionary\n",
    "# cognismdata['job link'] = dfapollo['company_linkedin_link'].map(lookup_dict)\n",
    "# print(cognismdata['job link'])"
   ]
  },
  {
   "cell_type": "code",
   "execution_count": 585,
   "id": "82bad846-8fb8-459a-a971-c8b34b5da6d7",
   "metadata": {},
   "outputs": [
    {
     "name": "stdout",
     "output_type": "stream",
     "text": [
      "22\n",
      "1228\n"
     ]
    }
   ],
   "source": [
    "print(len(cognismdata.columns))\n",
    "print(len(cognismdata))"
   ]
  },
  {
   "cell_type": "code",
   "execution_count": 587,
   "id": "4327522a-05ac-438f-94f2-db6584c526c9",
   "metadata": {},
   "outputs": [
    {
     "data": {
      "text/plain": [
       "Index(['linkedin_link', 'full_name', 'first_name', 'last_name',\n",
       "       'email_validation', 'email', 'job_title', 'company', 'website',\n",
       "       'industry', 'keywords', 'employees', 'company_city', 'company_state',\n",
       "       'company_country', 'company_linkedin_link', 'company_about', 'mobile',\n",
       "       'sd_team_size', 'job posting', 'job link', 'full links'],\n",
       "      dtype='object')"
      ]
     },
     "execution_count": 587,
     "metadata": {},
     "output_type": "execute_result"
    }
   ],
   "source": [
    "cognismdata.columns"
   ]
  },
  {
   "cell_type": "markdown",
   "id": "759706d0-f81b-4b11-a860-69a07e9ad4cd",
   "metadata": {},
   "source": [
    "**lets again do some cleaning and filtering on cognism data so that we can add mobile number to apollo data**"
   ]
  },
  {
   "cell_type": "code",
   "execution_count": 590,
   "id": "94359fa2-79de-4cb2-9dfb-da14e975c691",
   "metadata": {},
   "outputs": [
    {
     "data": {
      "text/plain": [
       "1215"
      ]
     },
     "execution_count": 590,
     "metadata": {},
     "output_type": "execute_result"
    }
   ],
   "source": [
    "#Lets check and remove the duplicates from cognism sheet\n",
    "cognismdata = cognismdata.drop_duplicates(subset = 'linkedin_link', keep = 'first')\n",
    "len(cognismdata)"
   ]
  },
  {
   "cell_type": "code",
   "execution_count": 592,
   "id": "9a599451-bbf8-4d66-b5c2-31de1e78cffa",
   "metadata": {},
   "outputs": [
    {
     "data": {
      "text/plain": [
       "1209"
      ]
     },
     "execution_count": 592,
     "metadata": {},
     "output_type": "execute_result"
    }
   ],
   "source": [
    "#We need to remove all the row having no mobile numbers from cognism data\n",
    "cognismdata = cognismdata[cognismdata['mobile'].notna() & (cognismdata['mobile'] != '')]#removing contacts with no mobile numbers\n",
    "len(cognismdata)"
   ]
  },
  {
   "cell_type": "code",
   "execution_count": 594,
   "id": "324e46fa-23c3-4bcc-81a6-0d1a25a596bf",
   "metadata": {},
   "outputs": [
    {
     "data": {
      "text/plain": [
       "716"
      ]
     },
     "execution_count": 594,
     "metadata": {},
     "output_type": "execute_result"
    }
   ],
   "source": [
    "# Ensure the column is of type string\n",
    "cognismdata['mobile'] = cognismdata['mobile'].astype(str)\n",
    "# # Remove leading/trailing whitespace\n",
    "cognismdata['mobile'] = cognismdata['mobile'].str.strip()\n",
    "\n",
    "cog_mobile_filter = cognismdata[cognismdata['mobile'].str.startswith('+44 7')]\n",
    "len(cog_mobile_filter)"
   ]
  },
  {
   "cell_type": "markdown",
   "id": "02352d12-2758-4367-be71-77e424ed360e",
   "metadata": {},
   "source": [
    "**Step 3**"
   ]
  },
  {
   "cell_type": "markdown",
   "id": "eef9355d-0271-4af8-b00a-20d5e9c3ff01",
   "metadata": {},
   "source": [
    "**We need to map mobile numbers to the apollo data from final_mobile_cog dataset**"
   ]
  },
  {
   "cell_type": "markdown",
   "id": "024f6af6-2922-44cb-9b3f-b4668ae887b3",
   "metadata": {},
   "source": [
    "**Step 4**"
   ]
  },
  {
   "cell_type": "code",
   "execution_count": 599,
   "id": "336704ab-807a-41b9-b42d-f916d7dbea00",
   "metadata": {},
   "outputs": [
    {
     "name": "stdout",
     "output_type": "stream",
     "text": [
      "Columns in DataFrame: ['linkedin_link', 'full_name', 'first_name', 'last_name', 'email', 'email validation', 'job_title', 'company', 'website', 'industry', 'keywords', 'employees', 'company_city', 'company_state', 'company_country', 'company_linkedin_link', 'company_about', 'job posting', 'full links', 'job link', 'sd_team_size']\n"
     ]
    }
   ],
   "source": [
    "print(\"Columns in DataFrame:\", dfapollo.columns.tolist())"
   ]
  },
  {
   "cell_type": "code",
   "execution_count": 601,
   "id": "383d76f2-5200-448d-8bbc-0aededb18643",
   "metadata": {},
   "outputs": [
    {
     "name": "stdout",
     "output_type": "stream",
     "text": [
      "Columns in DataFrame: ['linkedin_link', 'full_name', 'first_name', 'last_name', 'email_validation', 'email', 'job_title', 'company', 'website', 'industry', 'keywords', 'employees', 'company_city', 'company_state', 'company_country', 'company_linkedin_link', 'company_about', 'mobile', 'sd_team_size', 'job posting', 'job link', 'full links']\n"
     ]
    }
   ],
   "source": [
    "print(\"Columns in DataFrame:\", cog_mobile_filter.columns.tolist())"
   ]
  },
  {
   "cell_type": "code",
   "execution_count": 603,
   "id": "7d886a4b-28ca-4842-947f-34e5f2ec2784",
   "metadata": {},
   "outputs": [],
   "source": [
    "# Create a lookup dictionary from cog_mobile_filter\n",
    "lookup_dict = cog_mobile_filter.set_index('linkedin_link')['mobile'].to_dict()\n",
    "# Add a new 'mobile' column to dfapollo using the lookup dictionary\n",
    "dfapollo['mobile'] = dfapollo['linkedin_link'].map(lookup_dict)"
   ]
  },
  {
   "cell_type": "markdown",
   "id": "743ec143-2c23-4fb1-9895-b8ba73b0edc4",
   "metadata": {},
   "source": [
    "**On the above line of code we have added matching mobile number column to the apollo data**"
   ]
  },
  {
   "cell_type": "code",
   "execution_count": 606,
   "id": "942b57d9-9621-489d-84bc-503c08bc6307",
   "metadata": {},
   "outputs": [
    {
     "name": "stdout",
     "output_type": "stream",
     "text": [
      "We have got  433  matching mobile numbers\n"
     ]
    }
   ],
   "source": [
    "matching_mobile_count = dfapollo['mobile'].count()\n",
    "print(\"We have got \",matching_mobile_count,\" matching mobile numbers\")"
   ]
  },
  {
   "cell_type": "code",
   "execution_count": 608,
   "id": "e8893fcd-3da8-4c65-b9cd-881a51470686",
   "metadata": {},
   "outputs": [
    {
     "data": {
      "text/plain": [
       "Index(['linkedin_link', 'full_name', 'first_name', 'last_name', 'email',\n",
       "       'email validation', 'job_title', 'company', 'website', 'industry',\n",
       "       'keywords', 'employees', 'company_city', 'company_state',\n",
       "       'company_country', 'company_linkedin_link', 'company_about',\n",
       "       'job posting', 'full links', 'job link', 'sd_team_size', 'mobile'],\n",
       "      dtype='object')"
      ]
     },
     "execution_count": 608,
     "metadata": {},
     "output_type": "execute_result"
    }
   ],
   "source": [
    "#lets verify if mobile column is added\n",
    "dfapollo.columns"
   ]
  },
  {
   "cell_type": "markdown",
   "id": "dc182d8d-0204-40ed-9b1e-f86c63b8622e",
   "metadata": {},
   "source": [
    "Now only extra cognism data need to added to complete the cognism data process"
   ]
  },
  {
   "cell_type": "code",
   "execution_count": 611,
   "id": "22140a19-7cef-4458-95c4-42b8dc879159",
   "metadata": {},
   "outputs": [
    {
     "name": "stdout",
     "output_type": "stream",
     "text": [
      "We have  283  no matching contacts\n"
     ]
    },
    {
     "name": "stderr",
     "output_type": "stream",
     "text": [
      "C:\\Users\\amir\\AppData\\Local\\Temp\\ipykernel_20800\\3529325103.py:9: SettingWithCopyWarning: \n",
      "A value is trying to be set on a copy of a slice from a DataFrame.\n",
      "Try using .loc[row_indexer,col_indexer] = value instead\n",
      "\n",
      "See the caveats in the documentation: https://pandas.pydata.org/pandas-docs/stable/user_guide/indexing.html#returning-a-view-versus-a-copy\n",
      "  non_matching_finalcog['extracognism'] = True\n"
     ]
    }
   ],
   "source": [
    "# Lets Identify rows in finalcog that do not have a match in dfapollo\n",
    "non_matching_finalcog = cog_mobile_filter[~cog_mobile_filter['linkedin_link'].isin(dfapollo['linkedin_link'])]\n",
    "\n",
    "#lets count apollo's no matching contacts\n",
    "n_m_count = non_matching_finalcog['linkedin_link'].count()\n",
    "print(\"We have \",n_m_count,\" no matching contacts\")\n",
    "\n",
    "# Add a new column 'extra_cognism' to the non-matching rows and set it to True\n",
    "non_matching_finalcog['extracognism'] = True\n",
    "\n",
    "# Fill NaN values in the 'extra_cognism' column for rows that came from dfapollo\n",
    "# result['extra_cognism'] = result['extra_cognism'].fillna(False)\n"
   ]
  },
  {
   "cell_type": "code",
   "execution_count": 613,
   "id": "cdfdf5bd-2fd3-458a-b6f3-0e9b2060037c",
   "metadata": {},
   "outputs": [
    {
     "data": {
      "text/plain": [
       "Index(['linkedin_link', 'full_name', 'first_name', 'last_name',\n",
       "       'email_validation', 'email', 'job_title', 'company', 'website',\n",
       "       'industry', 'keywords', 'employees', 'company_city', 'company_state',\n",
       "       'company_country', 'company_linkedin_link', 'company_about', 'mobile',\n",
       "       'sd_team_size', 'job posting', 'job link', 'full links',\n",
       "       'extracognism'],\n",
       "      dtype='object')"
      ]
     },
     "execution_count": 613,
     "metadata": {},
     "output_type": "execute_result"
    }
   ],
   "source": [
    "non_matching_finalcog.columns"
   ]
  },
  {
   "cell_type": "code",
   "execution_count": 615,
   "id": "74419551-3ccf-4506-95db-da7cc0e7488a",
   "metadata": {},
   "outputs": [
    {
     "name": "stdout",
     "output_type": "stream",
     "text": [
      "23\n",
      "22\n"
     ]
    }
   ],
   "source": [
    "print(len(non_matching_finalcog.columns)) #data frame 1\n",
    "print(len(dfapollo.columns))#data frame 2"
   ]
  },
  {
   "cell_type": "markdown",
   "id": "ed1cf7d2-23e8-41ce-be4a-bb9aca3361c1",
   "metadata": {},
   "source": [
    "Now we have equal columns in our dfapollo and non_matching_finalcog only need to merge df_apollo and extracognism dataset later"
   ]
  },
  {
   "cell_type": "markdown",
   "id": "f6cdf47f-a085-4390-a468-59fdea8ece61",
   "metadata": {},
   "source": [
    "**We will add these dataset together**"
   ]
  },
  {
   "cell_type": "markdown",
   "id": "3657a2dc-11f0-448a-9c45-29d3bceb143f",
   "metadata": {},
   "source": [
    "Lets create a csv file for the data where we dont able to find mobile numbers"
   ]
  },
  {
   "cell_type": "markdown",
   "id": "5e17d5b3-3ed4-4422-9fd0-e024f8c0face",
   "metadata": {},
   "source": [
    "**Step 5 to create a csv file of no mobile number which need to send to zoominfo**"
   ]
  },
  {
   "cell_type": "code",
   "execution_count": 621,
   "id": "51b37638-1abd-4ad7-add0-49f38070589e",
   "metadata": {},
   "outputs": [],
   "source": [
    "# Fill missing mobile numbers with a default value\n",
    "dfapollo['mobile'] = dfapollo['mobile'].fillna('No Mobile Number')"
   ]
  },
  {
   "cell_type": "code",
   "execution_count": 623,
   "id": "02a8c0f2-23d1-486e-adc0-9f938436dfbf",
   "metadata": {},
   "outputs": [],
   "source": [
    "# Filter rows without mobile numbers\n",
    "dfapollo_no_mobile = dfapollo[dfapollo['mobile'].isna() | (dfapollo['mobile'] == 'No Mobile Number')]\n",
    "#dfapollo_no_mobile"
   ]
  },
  {
   "cell_type": "code",
   "execution_count": 625,
   "id": "39215245-b352-4408-a5a1-fd9e2089e5ea",
   "metadata": {},
   "outputs": [],
   "source": [
    "previous_apollo_lenghth = len(dfapollo)"
   ]
  },
  {
   "cell_type": "code",
   "execution_count": 627,
   "id": "24d3faff-e438-4889-9803-ca373f6dc2b7",
   "metadata": {},
   "outputs": [],
   "source": [
    "#lets remove no mobile number data from dfapollo dataset so that we can combine both with mobile number dataset later.\n",
    "# Remove dfapollo_no_mobile from dfapollo (keep only rows with valid mobile numbers)\n",
    "dfapollo = dfapollo[~(dfapollo['mobile'].isna() | (dfapollo['mobile'] == 'No Mobile Number'))]"
   ]
  },
  {
   "cell_type": "code",
   "execution_count": 629,
   "id": "7fc56344-05f5-4a5e-9b86-aee6aa06cb18",
   "metadata": {},
   "outputs": [
    {
     "name": "stdout",
     "output_type": "stream",
     "text": [
      "654\n",
      "433\n"
     ]
    }
   ],
   "source": [
    "#Lets verify if the no mobile contact has been deleted from dfapollo\n",
    "print(len(dfapollo_no_mobile))\n",
    "print(len(dfapollo))"
   ]
  },
  {
   "cell_type": "code",
   "execution_count": 631,
   "id": "6d694a81-adb3-4483-804a-0c68fdb71ab6",
   "metadata": {},
   "outputs": [
    {
     "name": "stdout",
     "output_type": "stream",
     "text": [
      "Fianl dfapollo length = 433\n"
     ]
    }
   ],
   "source": [
    "print(\"Fianl dfapollo length =\", previous_apollo_lenghth - len(dfapollo_no_mobile))"
   ]
  },
  {
   "cell_type": "markdown",
   "id": "82186712-83e7-4dcc-b9fa-bc31f98ee8f8",
   "metadata": {},
   "source": [
    "** Now we need to download a csv file to send to zoominfo**"
   ]
  },
  {
   "cell_type": "code",
   "execution_count": 634,
   "id": "7882a961-1c15-4c05-9d88-452367e5717e",
   "metadata": {},
   "outputs": [
    {
     "data": {
      "text/plain": [
       "Index(['linkedin_link', 'full_name', 'first_name', 'last_name', 'email',\n",
       "       'email validation', 'job_title', 'company', 'website', 'industry',\n",
       "       'keywords', 'employees', 'company_city', 'company_state',\n",
       "       'company_country', 'company_linkedin_link', 'company_about',\n",
       "       'job posting', 'full links', 'job link', 'sd_team_size', 'mobile'],\n",
       "      dtype='object')"
      ]
     },
     "execution_count": 634,
     "metadata": {},
     "output_type": "execute_result"
    }
   ],
   "source": [
    "dfapollo_no_mobile.columns"
   ]
  },
  {
   "cell_type": "code",
   "execution_count": 636,
   "id": "24f5f13d-16df-4c64-b3af-b97b0278fec1",
   "metadata": {},
   "outputs": [],
   "source": [
    "copy_dfapollo_no_mobile = dfapollo_no_mobile.copy()\n"
   ]
  },
  {
   "cell_type": "code",
   "execution_count": 638,
   "id": "636453f5-f6da-41a4-8d88-7980133f25d8",
   "metadata": {},
   "outputs": [
    {
     "name": "stdout",
     "output_type": "stream",
     "text": [
      "Index(['linkedin_link', 'full_name', 'first_name', 'last_name', 'email',\n",
      "       'email validation', 'job_title', 'company', 'website', 'industry',\n",
      "       'keywords', 'employees', 'company_city', 'company_state',\n",
      "       'company_country', 'company_linkedin_link', 'company_about',\n",
      "       'job posting', 'full links', 'job link', 'sd_team_size', 'mobile'],\n",
      "      dtype='object')\n",
      "Index(['full_name', 'first_name', 'last_name', 'email', 'company'], dtype='object')\n"
     ]
    }
   ],
   "source": [
    "# Lets create a copy of the dfapollo_no_mobile dataframe so that we can element unwanted columns and keep only required columns for zoominfo\n",
    "\n",
    "\n",
    "dfnomobile_col_need_to_delete =['linkedin_link','email validation', 'job_title', 'website', 'industry',\n",
    "'keywords', 'employees', 'company_city', 'company_state',\n",
    "'company_country', 'company_linkedin_link', 'company_about',\n",
    "'job posting', 'full links', 'job link', 'sd_team_size', 'mobile']\n",
    "\n",
    "#Lets delete the created list from dfapollo_no_mobile data\n",
    "copy_dfapollo_no_mobile.drop(columns=dfnomobile_col_need_to_delete, inplace=True)\n",
    "\n",
    "print(dfapollo_no_mobile.columns)\n",
    "print(copy_dfapollo_no_mobile.columns)"
   ]
  },
  {
   "cell_type": "code",
   "execution_count": 640,
   "id": "76d6bd92-fddc-4d61-a24c-8e8f7fab6edc",
   "metadata": {},
   "outputs": [],
   "source": [
    "import os\n",
    "# copy_dfapollo_no_mobile.to_csv(os.path.join('C:\\\\Users\\\\amir\\\\OneDrive\\\\Desktop\\\\New Hiring lead process\\\\Using python\\\\Zoominfo\\\\send to zoominfo\\\\',input()))"
   ]
  },
  {
   "cell_type": "code",
   "execution_count": 642,
   "id": "9da799ca-d18b-431b-b0b7-4bd1456220d2",
   "metadata": {},
   "outputs": [],
   "source": [
    "#lets remove mobile column from the dataset so that we can add mobile column from zoominfo\n",
    "del dfapollo_no_mobile['mobile']\n",
    "#why deleting the mobile column\n",
    "#its because we dont want to have two mobile columns in our data\n",
    "#one very import thing need to remember that we delete mobile column for the dataset doesnt have mobile numbers in it"
   ]
  },
  {
   "cell_type": "code",
   "execution_count": 644,
   "id": "1298648b-7227-4b39-99c1-6ae09763052c",
   "metadata": {},
   "outputs": [
    {
     "name": "stdout",
     "output_type": "stream",
     "text": [
      "654\n",
      "21\n"
     ]
    }
   ],
   "source": [
    "dfapollo_no_mobile_len_before = len(dfapollo_no_mobile)\n",
    "print(len(dfapollo_no_mobile))\n",
    "print(len(dfapollo_no_mobile.columns))"
   ]
  },
  {
   "cell_type": "markdown",
   "id": "422ec1bd-87ce-41d2-bbe2-4a452ce3ad89",
   "metadata": {},
   "source": [
    "**Step 6**"
   ]
  },
  {
   "cell_type": "code",
   "execution_count": 647,
   "id": "a48f530d-2071-48b6-ac25-3ba2e9f9d4e1",
   "metadata": {},
   "outputs": [
    {
     "data": {
      "text/plain": [
       "304"
      ]
     },
     "execution_count": 647,
     "metadata": {},
     "output_type": "execute_result"
    }
   ],
   "source": [
    "#lets upload the zoominfo data\n",
    "zoomdata = pd.read_csv(\"C:\\\\Users\\\\amir\\\\OneDrive\\\\Desktop\\\\New Hiring lead process\\\\Using python\\\\Zoominfo\\\\From zoominfo\\\\from zoominfo 25 march hiring.csv\")\n",
    "len(zoomdata)"
   ]
  },
  {
   "cell_type": "code",
   "execution_count": 649,
   "id": "ac3f2198-8ff4-439d-9a30-461eded5221f",
   "metadata": {},
   "outputs": [],
   "source": [
    "zoomdata.columns = zoomdata.columns.str.strip().str.lower()"
   ]
  },
  {
   "cell_type": "markdown",
   "id": "7f7ee0bb-3d02-4676-83a8-df2a6b40b4db",
   "metadata": {},
   "source": [
    "**lets make this zoom data ready to map by renaming and cleaning some data**"
   ]
  },
  {
   "cell_type": "code",
   "execution_count": 652,
   "id": "1f0b6ce0-31ea-4320-96cf-6b1e5fcbd5f9",
   "metadata": {},
   "outputs": [
    {
     "data": {
      "text/plain": [
       "304"
      ]
     },
     "execution_count": 652,
     "metadata": {},
     "output_type": "execute_result"
    }
   ],
   "source": [
    "#lets remove no mobile number data\n",
    "zoomdata = zoomdata[zoomdata['mobile phone'].notna() & (zoomdata['mobile phone'] != '')]#removing contact with no mobile\n",
    "len(zoomdata)"
   ]
  },
  {
   "cell_type": "code",
   "execution_count": 654,
   "id": "5a040f5e-017e-47b9-8c52-2af51aca8183",
   "metadata": {},
   "outputs": [
    {
     "name": "stdout",
     "output_type": "stream",
     "text": [
      "Columns in DataFrame: ['zoominfo contact id', 'last name', 'first name', 'middle name', 'salutation', 'suffix', 'job title', 'management level', 'job start date', 'job function', 'department', 'company division name', 'direct phone number', 'email address', 'email domain', 'mobile', 'highest level of education', 'contact accuracy score', 'contact accuracy grade', 'zoominfo contact profile url', 'linkedin_link', 'notice provided date', 'person street', 'person city', 'person state', 'person zip code', 'country', 'zoominfo company id', 'company name', 'website', 'founded year', 'company hq phone', 'fax', 'ticker', 'revenue (in 000s usd)', 'revenue range (in usd)', 'employees', 'employee range', 'sic code 1', 'sic code 2', 'sic codes', 'naics code 1', 'naics code 2', 'naics codes', 'primary industry', 'primary sub-industry', 'all industries', 'all sub-industries', 'industry hierarchical category', 'secondary industry hierarchical category', 'alexa rank', 'zoominfo company profile url', 'linkedin company profile url', 'facebook company profile url', 'twitter company profile url', 'ownership type', 'business model', 'certified active company', 'certification date', 'total funding amount (in 000s usd)', 'recent funding amount (in 000s usd)', 'recent funding round', 'recent funding date', 'recent investors', 'all investors', 'company street address', 'company city', 'company state', 'company zip code', 'company country', 'full address', 'number of locations', 'query name']\n"
     ]
    }
   ],
   "source": [
    "#lets rename linkedin column name as our previous data names\n",
    "zoomdata = zoomdata.rename(columns={'linkedin contact profile url': 'linkedin_link','mobile phone':'mobile'})#column names we already knows otherwise we can check\n",
    "print(\"Columns in DataFrame:\", zoomdata.columns.tolist())\n"
   ]
  },
  {
   "cell_type": "code",
   "execution_count": 656,
   "id": "bbb3723b-f6d7-4233-bca4-b365ba519817",
   "metadata": {},
   "outputs": [
    {
     "data": {
      "text/plain": [
       "253"
      ]
     },
     "execution_count": 656,
     "metadata": {},
     "output_type": "execute_result"
    }
   ],
   "source": [
    "#lets filter UK mobile number data\n",
    "zoomdata['mobile'] = zoomdata['mobile'].astype(str).str.strip() #formating the mobile numbers as it contain spaces and speacial char\n",
    "zoom_mobile_filter = zoomdata[zoomdata['mobile'].str.startswith('+44 7')]\n",
    "len(zoom_mobile_filter)"
   ]
  },
  {
   "cell_type": "code",
   "execution_count": 658,
   "id": "813a8cd6-a1e7-4f59-a680-824931e2d058",
   "metadata": {},
   "outputs": [
    {
     "data": {
      "text/plain": [
       "Index(['zoominfo contact id', 'last name', 'first name', 'middle name',\n",
       "       'salutation', 'suffix', 'job title', 'management level',\n",
       "       'job start date', 'job function', 'department', 'company division name',\n",
       "       'direct phone number', 'email address', 'email domain', 'mobile',\n",
       "       'highest level of education', 'contact accuracy score',\n",
       "       'contact accuracy grade', 'zoominfo contact profile url',\n",
       "       'linkedin_link', 'notice provided date', 'person street', 'person city',\n",
       "       'person state', 'person zip code', 'country', 'zoominfo company id',\n",
       "       'company name', 'website', 'founded year', 'company hq phone', 'fax',\n",
       "       'ticker', 'revenue (in 000s usd)', 'revenue range (in usd)',\n",
       "       'employees', 'employee range', 'sic code 1', 'sic code 2', 'sic codes',\n",
       "       'naics code 1', 'naics code 2', 'naics codes', 'primary industry',\n",
       "       'primary sub-industry', 'all industries', 'all sub-industries',\n",
       "       'industry hierarchical category',\n",
       "       'secondary industry hierarchical category', 'alexa rank',\n",
       "       'zoominfo company profile url', 'linkedin company profile url',\n",
       "       'facebook company profile url', 'twitter company profile url',\n",
       "       'ownership type', 'business model', 'certified active company',\n",
       "       'certification date', 'total funding amount (in 000s usd)',\n",
       "       'recent funding amount (in 000s usd)', 'recent funding round',\n",
       "       'recent funding date', 'recent investors', 'all investors',\n",
       "       'company street address', 'company city', 'company state',\n",
       "       'company zip code', 'company country', 'full address',\n",
       "       'number of locations', 'query name'],\n",
       "      dtype='object')"
      ]
     },
     "execution_count": 658,
     "metadata": {},
     "output_type": "execute_result"
    }
   ],
   "source": [
    "zoom_mobile_filter.columns"
   ]
  },
  {
   "cell_type": "code",
   "execution_count": 660,
   "id": "9e1b655a-b961-400c-8d90-e29ca1fa482c",
   "metadata": {},
   "outputs": [],
   "source": [
    "# Create a lookup dictionary from zoomdata\n",
    "lookup_dict = zoom_mobile_filter.set_index('linkedin_link')['mobile'].to_dict()\n",
    "# Add a new 'mobile' column to dfapollo_no_mobile using the lookup dictionary\n",
    "dfapollo_no_mobile['mobile'] = dfapollo_no_mobile['linkedin_link'].map(lookup_dict)\n"
   ]
  },
  {
   "cell_type": "markdown",
   "id": "3fd5fd9d-3df2-4156-92d7-889444edd004",
   "metadata": {},
   "source": [
    "**By the above code we have added zoominfo mobile data to our dfapollo_no_mobile data where we dont get mobile numbers from cognism**"
   ]
  },
  {
   "cell_type": "markdown",
   "id": "d44d1190-6fe4-4789-bfe2-0d84a48f1422",
   "metadata": {},
   "source": [
    "**Since we are not using Lusha for mobile number lets remove all the missing mobile number data**"
   ]
  },
  {
   "cell_type": "code",
   "execution_count": 663,
   "id": "f8346cf0-3521-417b-ad52-593e1ab6ff58",
   "metadata": {},
   "outputs": [
    {
     "data": {
      "text/plain": [
       "443"
      ]
     },
     "execution_count": 663,
     "metadata": {},
     "output_type": "execute_result"
    }
   ],
   "source": [
    "missing_count = dfapollo_no_mobile['mobile'].isna().sum()\n",
    "missing_count"
   ]
  },
  {
   "cell_type": "code",
   "execution_count": 665,
   "id": "427b3f6e-fc14-49fe-a950-f988c6429b80",
   "metadata": {},
   "outputs": [],
   "source": [
    "# Fill missing mobile numbers with a default value\n",
    "dfapollo_no_mobile['mobile'] = dfapollo_no_mobile['mobile'].fillna('No Mobile Number')\n",
    "#lets remove no mobile number data from dfapollo dataset so that we can combine both with mobile number dataset later.\n",
    "#keep only rows with valid mobile numbers\n",
    "dfapollo_no_mobile = dfapollo_no_mobile[~(dfapollo_no_mobile['mobile'].isna() | (dfapollo_no_mobile['mobile'] == 'No Mobile Number'))]"
   ]
  },
  {
   "cell_type": "code",
   "execution_count": 669,
   "id": "b7f9246b-6201-45cb-a068-2c93dba306f8",
   "metadata": {},
   "outputs": [
    {
     "name": "stdout",
     "output_type": "stream",
     "text": [
      "443\n",
      "443\n",
      "dfapollo no mobile length after removing invalid or missing mobile numbers 211\n"
     ]
    }
   ],
   "source": [
    "print(dfapollo_no_mobile_len_before - len(dfapollo_no_mobile))\n",
    "print(missing_count)\n",
    "print(\"dfapollo no mobile length after removing invalid or missing mobile numbers\",len(dfapollo_no_mobile))"
   ]
  },
  {
   "cell_type": "markdown",
   "id": "f1f55bd4-dbc7-4483-87a8-27a4ca92ce8d",
   "metadata": {},
   "source": [
    "If required in future we can keep the missing mobile number data as well"
   ]
  },
  {
   "cell_type": "markdown",
   "id": "cc8267fd-3f04-45bf-bc9e-ce50bd86d7d6",
   "metadata": {},
   "source": [
    "Now we need to add both the data set where we have mobile numbers"
   ]
  },
  {
   "cell_type": "markdown",
   "id": "52479306-622b-48a0-9cae-233b535be8d7",
   "metadata": {},
   "source": [
    "**Lets combine all the three dataset together**"
   ]
  },
  {
   "cell_type": "code",
   "execution_count": 678,
   "id": "ab6b76b1-ce4b-4e01-bd20-69d703255e5c",
   "metadata": {},
   "outputs": [
    {
     "data": {
      "text/plain": [
       "Index(['linkedin_link', 'full_name', 'first_name', 'last_name', 'email',\n",
       "       'email validation', 'job_title', 'company', 'website', 'industry',\n",
       "       'keywords', 'employees', 'company_city', 'company_state',\n",
       "       'company_country', 'company_linkedin_link', 'company_about',\n",
       "       'job posting', 'full links', 'job link', 'sd_team_size', 'mobile'],\n",
       "      dtype='object')"
      ]
     },
     "execution_count": 678,
     "metadata": {},
     "output_type": "execute_result"
    }
   ],
   "source": [
    "dfapollo.columns"
   ]
  },
  {
   "cell_type": "code",
   "execution_count": 680,
   "id": "9ca8128c-dc53-4d7c-991b-75a5e678842d",
   "metadata": {},
   "outputs": [
    {
     "data": {
      "text/plain": [
       "Index(['linkedin_link', 'full_name', 'first_name', 'last_name',\n",
       "       'email_validation', 'email', 'job_title', 'company', 'website',\n",
       "       'industry', 'keywords', 'employees', 'company_city', 'company_state',\n",
       "       'company_country', 'company_linkedin_link', 'company_about', 'mobile',\n",
       "       'sd_team_size', 'job posting', 'job link', 'full links',\n",
       "       'extracognism'],\n",
       "      dtype='object')"
      ]
     },
     "execution_count": 680,
     "metadata": {},
     "output_type": "execute_result"
    }
   ],
   "source": [
    "non_matching_finalcog.columns"
   ]
  },
  {
   "cell_type": "code",
   "execution_count": 682,
   "id": "c2d443ca-b32d-450a-b548-4bbfd02c96b6",
   "metadata": {},
   "outputs": [
    {
     "data": {
      "text/plain": [
       "Index(['linkedin_link', 'full_name', 'first_name', 'last_name', 'email',\n",
       "       'email validation', 'job_title', 'company', 'website', 'industry',\n",
       "       'keywords', 'employees', 'company_city', 'company_state',\n",
       "       'company_country', 'company_linkedin_link', 'company_about',\n",
       "       'job posting', 'full links', 'job link', 'sd_team_size', 'mobile'],\n",
       "      dtype='object')"
      ]
     },
     "execution_count": 682,
     "metadata": {},
     "output_type": "execute_result"
    }
   ],
   "source": [
    "dfapollo_no_mobile.columns"
   ]
  },
  {
   "cell_type": "code",
   "execution_count": 684,
   "id": "83c9f5d8-4c38-4947-ac63-90e46a9e709b",
   "metadata": {},
   "outputs": [
    {
     "name": "stdout",
     "output_type": "stream",
     "text": [
      "22\n",
      "23\n",
      "22\n"
     ]
    }
   ],
   "source": [
    "print(len(dfapollo.columns))\n",
    "print(len(non_matching_finalcog.columns))#non_matching_finalcog has extrac cognims column\n",
    "print(len(dfapollo_no_mobile.columns))"
   ]
  },
  {
   "cell_type": "markdown",
   "id": "93d37578-b91c-48c9-a5eb-5fb2f0409cd5",
   "metadata": {},
   "source": [
    "Lets add all the data set having mobile numbers"
   ]
  },
  {
   "cell_type": "code",
   "execution_count": 687,
   "id": "ea10fa01-8346-4409-8343-b506b0667c49",
   "metadata": {},
   "outputs": [
    {
     "name": "stdout",
     "output_type": "stream",
     "text": [
      "24\n",
      "927\n"
     ]
    }
   ],
   "source": [
    "# Combine the two DataFrames vertically\n",
    "master_df = pd.concat([dfapollo, dfapollo_no_mobile, non_matching_finalcog], axis=0, ignore_index=True)\n",
    "master_df.columns\n",
    "print(len(master_df.columns))\n",
    "print(len(master_df))"
   ]
  },
  {
   "cell_type": "code",
   "execution_count": 689,
   "id": "0680eb20-7dc9-4143-aecd-398fd897805b",
   "metadata": {},
   "outputs": [
    {
     "data": {
      "text/plain": [
       "Index(['Bad Job Title', 'Unnamed: 1', 'Bad Job Posts'], dtype='object')"
      ]
     },
     "execution_count": 689,
     "metadata": {},
     "output_type": "execute_result"
    }
   ],
   "source": [
    "#This step should perform at the end of the notebook\n",
    "#remove bad job title from apollo data\n",
    "#creating a list of badjobtitles to elemenet bad job titles\n",
    "url = \"https://docs.google.com/spreadsheets/d/e/2PACX-1vSUQsbmb3MlADPi5q92Eeh5W6nwa8sgszHtctytwl_y2nlUnkJOHj377DJzasaugC_z7yrDU0FKA9cC/pub?gid=0&single=true&output=csv\"\n",
    "badtitle = pd.read_csv(url)\n",
    "badtitle.columns"
   ]
  },
  {
   "cell_type": "code",
   "execution_count": 691,
   "id": "dd440e7a-7852-4ec0-9071-88dfe1301a9a",
   "metadata": {},
   "outputs": [
    {
     "data": {
      "text/plain": [
       "886"
      ]
     },
     "execution_count": 691,
     "metadata": {},
     "output_type": "execute_result"
    }
   ],
   "source": [
    "bad_title_list = badtitle['Bad Job Title'].tolist()\n",
    "bad_job_post = badtitle['Bad Job Posts']\n",
    "\n",
    "master_df = master_df[~master_df['job_title'].isin(bad_title_list)]#deleting the created list from Job title column\n",
    "master_df = master_df[~master_df['job posting'].isin(bad_job_post)] #deleting the created list from Job Posts column\n",
    "len(master_df)"
   ]
  },
  {
   "cell_type": "markdown",
   "id": "b3e03318-b4c2-434c-8010-cf1545f9b121",
   "metadata": {},
   "source": [
    "**From Final data we need to remove the Active sequence data**"
   ]
  },
  {
   "cell_type": "code",
   "execution_count": 694,
   "id": "36a08b60-5c9b-43e3-bd19-e06b409ceff5",
   "metadata": {},
   "outputs": [],
   "source": [
    "active_sequenec = pd.read_csv(\"C:\\\\Users\\\\amir\\\\OneDrive\\\\Desktop\\\\New Hiring lead process\\\\Using python\\\\Active Sequene data\\\\active sequence march 25-025.csv\")"
   ]
  },
  {
   "cell_type": "code",
   "execution_count": 696,
   "id": "fb5e9d71-acca-4070-a318-66928f17dde6",
   "metadata": {},
   "outputs": [
    {
     "data": {
      "text/plain": [
       "Index(['LinkedIn', 'Name', 'Name - Company', 'Job Title', 'Email', 'Phone',\n",
       "       'Tags', 'Created At', 'Type - Company', 'Id'],\n",
       "      dtype='object')"
      ]
     },
     "execution_count": 696,
     "metadata": {},
     "output_type": "execute_result"
    }
   ],
   "source": [
    "active_sequenec.columns"
   ]
  },
  {
   "cell_type": "code",
   "execution_count": 698,
   "id": "4d4d896b-9ef9-49a3-b93b-e0c2eba5267d",
   "metadata": {},
   "outputs": [
    {
     "data": {
      "text/plain": [
       "864"
      ]
     },
     "execution_count": 698,
     "metadata": {},
     "output_type": "execute_result"
    }
   ],
   "source": [
    "as_need_remove = active_sequenec['LinkedIn'].tolist()\n",
    "master_df = master_df[~master_df['linkedin_link'].isin(as_need_remove)]#deleting the created list from Job title column\n",
    "len(master_df)"
   ]
  },
  {
   "cell_type": "code",
   "execution_count": 700,
   "id": "d24f85ae-637b-4fa6-a14b-aa278be24cf4",
   "metadata": {},
   "outputs": [
    {
     "data": {
      "text/plain": [
       "Index(['linkedin_link', 'full_name', 'first_name', 'last_name', 'email',\n",
       "       'email validation', 'job_title', 'company', 'website', 'industry',\n",
       "       'keywords', 'employees', 'company_city', 'company_state',\n",
       "       'company_country', 'company_linkedin_link', 'company_about',\n",
       "       'job posting', 'full links', 'job link', 'sd_team_size', 'mobile',\n",
       "       'email_validation', 'extracognism'],\n",
       "      dtype='object')"
      ]
     },
     "execution_count": 700,
     "metadata": {},
     "output_type": "execute_result"
    }
   ],
   "source": [
    "master_df.columns"
   ]
  },
  {
   "cell_type": "code",
   "execution_count": null,
   "id": "ab94a55c-46aa-4bb3-a07e-093c050913f1",
   "metadata": {},
   "outputs": [],
   "source": []
  },
  {
   "cell_type": "markdown",
   "id": "d47d49ae-f284-4c22-b660-b6b1ce3f7cec",
   "metadata": {},
   "source": [
    "**Lets add Simplified name**"
   ]
  },
  {
   "cell_type": "code",
   "execution_count": 704,
   "id": "a66d81d4-433a-4628-8bac-e4a92d90a343",
   "metadata": {},
   "outputs": [],
   "source": [
    "import re\n",
    "def simplify_company_name(name):\n",
    "    if pd.isna(name):\n",
    "        return name\n",
    "    \n",
    "    # Step 1: Remove text within parentheses\n",
    "    name = re.sub(r'\\s*\\([^)]*\\)', '', str(name))\n",
    "    \n",
    "    # Step 2: Remove corporate suffixes (case-insensitive)\n",
    "    name = re.sub(\n",
    "        r'(?i)\\b(pvt|ltd|inc|co|corp|llc|limited|corporation|company|The)\\b', \n",
    "        '', \n",
    "        name\n",
    "    )\n",
    "    \n",
    "    # Trim whitespace\n",
    "    name = name.strip()\n",
    "    \n",
    "    return name\n",
    "\n",
    "# Apply to your DataFrame\n",
    "master_df['simplified_name'] = master_df['company'].apply(simplify_company_name)"
   ]
  },
  {
   "cell_type": "code",
   "execution_count": 706,
   "id": "2406ccf4-ba58-4b3d-a817-97085e6f32f8",
   "metadata": {},
   "outputs": [
    {
     "data": {
      "text/plain": [
       "Index(['linkedin_link', 'full_name', 'first_name', 'last_name',\n",
       "       'email_validation', 'email', 'mobile', 'job_title', 'company',\n",
       "       'simplified_name', 'website', 'industry', 'keywords', 'employees',\n",
       "       'company_city', 'company_state', 'company_country',\n",
       "       'company_linkedin_link', 'company_about', 'job posting', 'job link',\n",
       "       'sd_team_size', 'extracognism'],\n",
       "      dtype='object')"
      ]
     },
     "execution_count": 706,
     "metadata": {},
     "output_type": "execute_result"
    }
   ],
   "source": [
    "master_df= master_df[['linkedin_link','full_name','first_name','last_name','email_validation','email','mobile','job_title','company','simplified_name','website',\n",
    "                          'industry','keywords','employees','company_city','company_state','company_country','company_linkedin_link','company_about',\n",
    "                          'job posting', 'job link', 'sd_team_size', 'extracognism']]\n",
    "master_df.columns"
   ]
  },
  {
   "cell_type": "code",
   "execution_count": 708,
   "id": "78bbb559-716f-4a50-b83b-178e575becb3",
   "metadata": {},
   "outputs": [
    {
     "name": "stdin",
     "output_type": "stream",
     "text": [
      " onlymobiledata.csv\n"
     ]
    }
   ],
   "source": [
    "master_df.to_csv(os.path.join('C:\\\\Users\\\\amir\\\\OneDrive\\\\Desktop\\\\New Hiring lead process\\\\Using python\\\\Final python sheet\\\\',input()))"
   ]
  },
  {
   "cell_type": "code",
   "execution_count": 1,
   "id": "57d60f40-d6b7-4fa3-9885-53c5a7501e13",
   "metadata": {},
   "outputs": [],
   "source": [
    "#master_df.sample(5)"
   ]
  },
  {
   "cell_type": "code",
   "execution_count": null,
   "id": "21fd8b48-d235-4937-9e5c-47efac9c03bb",
   "metadata": {},
   "outputs": [],
   "source": []
  },
  {
   "cell_type": "code",
   "execution_count": null,
   "id": "ecf3423d-c628-4185-b2c1-587df709dccb",
   "metadata": {},
   "outputs": [],
   "source": []
  },
  {
   "cell_type": "code",
   "execution_count": null,
   "id": "434de153-d68a-4151-9ed5-2d4dd1baa3ad",
   "metadata": {},
   "outputs": [],
   "source": []
  }
 ],
 "metadata": {
  "kernelspec": {
   "display_name": "Python [conda env:base] *",
   "language": "python",
   "name": "conda-base-py"
  },
  "language_info": {
   "codemirror_mode": {
    "name": "ipython",
    "version": 3
   },
   "file_extension": ".py",
   "mimetype": "text/x-python",
   "name": "python",
   "nbconvert_exporter": "python",
   "pygments_lexer": "ipython3",
   "version": "3.12.7"
  }
 },
 "nbformat": 4,
 "nbformat_minor": 5
}
