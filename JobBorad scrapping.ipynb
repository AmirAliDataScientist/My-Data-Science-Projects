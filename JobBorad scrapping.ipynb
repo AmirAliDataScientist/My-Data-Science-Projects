{
 "cells": [
  {
   "cell_type": "code",
   "execution_count": 1415,
   "id": "7c1ef814-dcce-406d-9f50-10a216238a22",
   "metadata": {},
   "outputs": [],
   "source": [
    "import pandas as pd\n",
    "import selenium\n",
    "from selenium import webdriver\n",
    "from selenium.webdriver.common.by import By\n",
    "from selenium.webdriver.common.keys import Keys\n",
    "from bs4 import BeautifulSoup\n",
    "import requests\n",
    "import time\n",
    "import warnings\n",
    "warnings.filterwarnings('ignore')\n",
    "\n",
    "from selenium.webdriver.support.ui import WebDriverWait\n",
    "from selenium.webdriver.support import expected_conditions as EC\n",
    "from selenium.common.exceptions import NoSuchElementException, TimeoutException"
   ]
  },
  {
   "cell_type": "code",
   "execution_count": 1416,
   "id": "09bb6429-4974-413e-b251-d9829d13a369",
   "metadata": {},
   "outputs": [],
   "source": [
    "# gdriver = webdriver.Chrome()\n",
    "# gdriver.maximize_window()\n",
    "# time.sleep(5)"
   ]
  },
  {
   "cell_type": "code",
   "execution_count": 1417,
   "id": "7c1fc0c2-ec39-4c01-8053-b7368b21ea35",
   "metadata": {},
   "outputs": [],
   "source": [
    "# website = input('Paste your website here')\n",
    "# gdriver.get(website)\n",
    "# time.sleep(8)"
   ]
  },
  {
   "cell_type": "code",
   "execution_count": 1418,
   "id": "b22ae13a-7253-4a2e-86f7-29a8b1c1c57e",
   "metadata": {},
   "outputs": [],
   "source": [
    "job_search = gdriver.find_element(By.XPATH,'/html/body/div[1]/div[5]/div[1]/div/div[2]/div[1]/div[2]/input')\n",
    "job_search.send_keys(Keys.CONTROL + \"a\")  # Select all text\n",
    "job_search.send_keys(Keys.DELETE) \n",
    "time.sleep(3)"
   ]
  },
  {
   "cell_type": "code",
   "execution_count": 1419,
   "id": "4e362045-8783-41f1-9a22-c35f068fbf7d",
   "metadata": {},
   "outputs": [
    {
     "name": "stdin",
     "output_type": "stream",
     "text": [
      " Data Scientist \n"
     ]
    }
   ],
   "source": [
    "#putting job titles\n",
    "\n",
    "job_search = gdriver.find_element(By.XPATH,'/html/body/div[1]/div[5]/div[1]/div/div[2]/div[1]/div[2]/input')\n",
    "job_value = input()\n",
    "job_search.send_keys(job_value)\n",
    "time.sleep(3)\n",
    "job_search.send_keys(Keys.RETURN)\n"
   ]
  },
  {
   "cell_type": "code",
   "execution_count": 1420,
   "id": "ab178ad8-b383-402d-913a-23c3f2acffe4",
   "metadata": {},
   "outputs": [],
   "source": [
    "loc_search = gdriver.find_element(By.XPATH, \"/html/body/div[1]/div[5]/div[1]/div/div[2]/div[2]/div[2]/input\")\n",
    "loc_search.send_keys(Keys.CONTROL + \"a\")  # Select all text\n",
    "loc_search.send_keys(Keys.DELETE) \n",
    "time.sleep(3)"
   ]
  },
  {
   "cell_type": "code",
   "execution_count": 1421,
   "id": "89927c36-5232-4cdc-9860-db1893c147a7",
   "metadata": {},
   "outputs": [
    {
     "name": "stdin",
     "output_type": "stream",
     "text": [
      " United Kingdom\n"
     ]
    }
   ],
   "source": [
    "#Putting Location\n",
    "loc_value = input()\n",
    "loc_search = gdriver.find_element(By.XPATH, \"/html/body/div[1]/div[5]/div[1]/div/div[2]/div[2]/div[2]/input\")\n",
    "loc_search.send_keys(loc_value)\n",
    "time.sleep(2)\n",
    "loc_search.send_keys(Keys.RETURN)"
   ]
  },
  {
   "cell_type": "code",
   "execution_count": 1422,
   "id": "25debfbe-15bb-4f1e-b017-b1c550337be5",
   "metadata": {},
   "outputs": [],
   "source": [
    "#date sort click\n",
    "time.sleep(3)\n",
    "date_click = gdriver.find_element(By.XPATH, \"/html/body/div[1]/div[5]/div[4]/div[1]/div[3]/div/button[1]\")\n",
    "date_click.click()\n",
    "time.sleep(1)"
   ]
  },
  {
   "cell_type": "code",
   "execution_count": 1423,
   "id": "8dc9a89c-9453-4487-aa74-2294df9a5bf2",
   "metadata": {},
   "outputs": [],
   "source": [
    "#select seven days\n",
    "days = gdriver.find_element(By.XPATH,\"/html/body/div[1]/div[5]/div[4]/div[1]/div[3]/div[2]/div/div[2]/ul/li[4]/button\")\n",
    "days.click()\n",
    "time.sleep(5)"
   ]
  },
  {
   "cell_type": "code",
   "execution_count": 1424,
   "id": "b9745fd6-8267-4962-9b34-40073556c1f4",
   "metadata": {},
   "outputs": [],
   "source": [
    "# more_jobs = gdriver.find_element(By.XPATH,\"/html/body/div[1]/div[5]/div[4]/div[2]/div[1]/div[2]/div/div/button\")\n",
    "# more_jobs.click()\n",
    "# time.sleep(5)"
   ]
  },
  {
   "cell_type": "code",
   "execution_count": 1425,
   "id": "948413f4-e9a2-4a23-aa66-0c1657775011",
   "metadata": {},
   "outputs": [],
   "source": [
    " try:\n",
    "        more_jobs = gdriver.find_element(By.XPATH,\"/html/body/div[1]/div[5]/div[4]/div[2]/div[1]/div[2]/div/div/button\")\n",
    "        more_jobs.click()\n",
    "# Wait for 5 seconds to allow the page to load more jobs\n",
    "        time.sleep(5)\n",
    "\n",
    "except Exception as e:\n",
    "# Handle any exceptions (e.g., if the button is not found)\n",
    "        print(f\"Error: {e}\")"
   ]
  },
  {
   "cell_type": "code",
   "execution_count": 1426,
   "id": "6d204107-35e9-4b03-9667-479972931f4c",
   "metadata": {},
   "outputs": [],
   "source": [
    " try:\n",
    "        close_regist = gdriver.find_element(By.XPATH,\"/html/body/div[7]/div[2]/div[2]/div[1]/div/div[1]/button\")\n",
    "        close_regist.click()\n",
    "# Wait for 5 seconds to allow the page to load more jobs\n",
    "        time.sleep(5)\n",
    "\n",
    "except Exception as e:\n",
    "# Handle any exceptions (e.g., if the button is not found)\n",
    "        print(f\"Error: {e}\")"
   ]
  },
  {
   "cell_type": "code",
   "execution_count": 1427,
   "id": "d4892aa8-318e-4e32-9b1e-dd6584d9ded7",
   "metadata": {},
   "outputs": [
    {
     "name": "stdout",
     "output_type": "stream",
     "text": [
      "Error: Message: no such element: Unable to locate element: {\"method\":\"xpath\",\"selector\":\"/html/body/div[1]/div[5]/div[4]/div[2]/div[1]/div[2]/div/div/button\"}\n",
      "  (Session info: chrome=134.0.6998.119); For documentation on this error, please visit: https://www.selenium.dev/documentation/webdriver/troubleshooting/errors#no-such-element-exception\n",
      "Stacktrace:\n",
      "\tGetHandleVerifier [0x00007FF6D7374C25+3179557]\n",
      "\t(No symbol) [0x00007FF6D6FD88A0]\n",
      "\t(No symbol) [0x00007FF6D6E691CA]\n",
      "\t(No symbol) [0x00007FF6D6EBFA67]\n",
      "\t(No symbol) [0x00007FF6D6EBFC9C]\n",
      "\t(No symbol) [0x00007FF6D6F13627]\n",
      "\t(No symbol) [0x00007FF6D6EE7C6F]\n",
      "\t(No symbol) [0x00007FF6D6F102F3]\n",
      "\t(No symbol) [0x00007FF6D6EE7A03]\n",
      "\t(No symbol) [0x00007FF6D6EB06D0]\n",
      "\t(No symbol) [0x00007FF6D6EB1983]\n",
      "\tGetHandleVerifier [0x00007FF6D73D67CD+3579853]\n",
      "\tGetHandleVerifier [0x00007FF6D73ED1D2+3672530]\n",
      "\tGetHandleVerifier [0x00007FF6D73E2153+3627347]\n",
      "\tGetHandleVerifier [0x00007FF6D714092A+868650]\n",
      "\t(No symbol) [0x00007FF6D6FE2FFF]\n",
      "\t(No symbol) [0x00007FF6D6FDF4A4]\n",
      "\t(No symbol) [0x00007FF6D6FDF646]\n",
      "\t(No symbol) [0x00007FF6D6FCEAA9]\n",
      "\tBaseThreadInitThunk [0x00007FFE5B0BE8D7+23]\n",
      "\tRtlUserThreadStart [0x00007FFE5CCFBF6C+44]\n",
      "\n"
     ]
    }
   ],
   "source": [
    "for _ in range(100): #lets create a loop to click more jobs\n",
    "    try:\n",
    "        more_jobs = gdriver.find_element(By.XPATH,\"/html/body/div[1]/div[5]/div[4]/div[2]/div[1]/div[2]/div/div/button\")\n",
    "        more_jobs.click()\n",
    "# Wait for 5 seconds to allow the page to load more jobs\n",
    "        time.sleep(5)\n",
    "\n",
    "    except Exception as e:\n",
    "# Handle any exceptions (e.g., if the button is not found)\n",
    "        print(f\"Error: {e}\")\n",
    "        break"
   ]
  },
  {
   "cell_type": "code",
   "execution_count": 1428,
   "id": "65a93f45-d150-4fc1-9e93-070066d2047d",
   "metadata": {},
   "outputs": [],
   "source": [
    "# job_link = []\n",
    "# jobtitle = []\n",
    "# companyname = []\n",
    "# Location = []\n",
    "# old_date = []"
   ]
  },
  {
   "cell_type": "code",
   "execution_count": 1429,
   "id": "e6623626-f8a9-40b4-998e-49b9cdb914ff",
   "metadata": {},
   "outputs": [
    {
     "name": "stdout",
     "output_type": "stream",
     "text": [
      "3136\n"
     ]
    }
   ],
   "source": [
    "#Job title collection\n",
    "#jobtitle = [] #creating empty list to store the job titles\n",
    "\n",
    "titles = gdriver.find_elements(By.XPATH, \"//a[@class = 'JobCard_jobTitle__GLyJ1']\")\n",
    "for i in titles:\n",
    "    titles = i.text\n",
    "    jobtitle.append(titles)\n",
    "time.sleep(2)\n",
    "print(len(jobtitle))\n"
   ]
  },
  {
   "cell_type": "code",
   "execution_count": 1430,
   "id": "e9b8a537-a44a-44c9-ab3f-ad88eeed5374",
   "metadata": {},
   "outputs": [
    {
     "name": "stdout",
     "output_type": "stream",
     "text": [
      "3136\n"
     ]
    }
   ],
   "source": [
    "#company name collection\n",
    "#companyname = [] #creating a empty list to store company names\n",
    "\n",
    "company = gdriver.find_elements(By.XPATH, \"//span[@class = 'EmployerProfile_compactEmployerName__9MGcV']\")\n",
    "for i in company:\n",
    "    company = i.text\n",
    "    companyname.append(company)\n",
    "time.sleep(2)\n",
    "print(len(companyname))\n",
    "\n"
   ]
  },
  {
   "cell_type": "code",
   "execution_count": 1431,
   "id": "fa1b3585-ea17-482d-b26f-7d16cb470de4",
   "metadata": {},
   "outputs": [
    {
     "name": "stdout",
     "output_type": "stream",
     "text": [
      "3136\n"
     ]
    }
   ],
   "source": [
    "#collect job links\n",
    "#job_link = []\n",
    "\n",
    "urls = gdriver.find_elements(By.XPATH, \"//a[@class = 'JobCard_trackingLink__HMyun']\")\n",
    "for i in urls:\n",
    "    link = i.get_attribute('href')\n",
    "    job_link.append(link)\n",
    "time.sleep(2)\n",
    "print(len(job_link))\n"
   ]
  },
  {
   "cell_type": "code",
   "execution_count": 1432,
   "id": "2e75f3e5-eb4d-4234-9623-245138cfbbb2",
   "metadata": {},
   "outputs": [
    {
     "name": "stdout",
     "output_type": "stream",
     "text": [
      "96\n"
     ]
    }
   ],
   "source": [
    "#location\n",
    "\n",
    "location = gdriver.find_elements(By.XPATH, '//*[@class=\"JobCard_location__Ds1fM\"]')\n",
    "for i in location:\n",
    "    loc = i.text\n",
    "    Location.append(loc)\n",
    "time.sleep(2)\n",
    "print(len(location))\n"
   ]
  },
  {
   "cell_type": "code",
   "execution_count": 1433,
   "id": "08c708c4-df5f-4853-912d-2e75942a2fda",
   "metadata": {},
   "outputs": [
    {
     "name": "stdout",
     "output_type": "stream",
     "text": [
      "3136\n"
     ]
    }
   ],
   "source": [
    "#how old a lead is\n",
    "#old_date = []\n",
    "date = gdriver.find_elements(By.XPATH, \"//*[@class = 'JobCard_listingAge__jJsuc']\")\n",
    "for i in date:\n",
    "    day = i.text\n",
    "    old_date.append(day)\n",
    "time.sleep(2)\n",
    "print(len(old_date))"
   ]
  },
  {
   "cell_type": "code",
   "execution_count": 1434,
   "id": "d3794178-0820-432e-b8ff-37d8d05aa6e8",
   "metadata": {},
   "outputs": [],
   "source": [
    "# all_list = {'Job Links':job_link, 'Job Title':jobtitle,'Company name':companyname,'Location':Location,'Date':old_date}\n",
    "# # jobtitle = []\n",
    "# # companyname = []\n",
    "# # Location = []old_date = []]"
   ]
  },
  {
   "cell_type": "code",
   "execution_count": 1435,
   "id": "ae81d703-87ba-4047-a1b0-82c16595b63a",
   "metadata": {},
   "outputs": [
    {
     "name": "stdout",
     "output_type": "stream",
     "text": [
      "3136\n",
      "3136\n",
      "3136\n",
      "3136\n",
      "96\n"
     ]
    }
   ],
   "source": [
    "print(len(job_link))\n",
    "print(len(jobtitle))\n",
    "print(len(companyname))\n",
    "print(len(old_date))\n",
    "print(len(location))"
   ]
  },
  {
   "cell_type": "code",
   "execution_count": 1436,
   "id": "4d5f7ad1-72d1-41e5-87fe-92e4d4048bdc",
   "metadata": {
    "scrolled": true
   },
   "outputs": [
    {
     "data": {
      "text/html": [
       "<div>\n",
       "<style scoped>\n",
       "    .dataframe tbody tr th:only-of-type {\n",
       "        vertical-align: middle;\n",
       "    }\n",
       "\n",
       "    .dataframe tbody tr th {\n",
       "        vertical-align: top;\n",
       "    }\n",
       "\n",
       "    .dataframe thead th {\n",
       "        text-align: right;\n",
       "    }\n",
       "</style>\n",
       "<table border=\"1\" class=\"dataframe\">\n",
       "  <thead>\n",
       "    <tr style=\"text-align: right;\">\n",
       "      <th></th>\n",
       "      <th>Company Name</th>\n",
       "      <th>Job Posting</th>\n",
       "      <th>Location</th>\n",
       "      <th>Job Post date</th>\n",
       "      <th>Job links</th>\n",
       "    </tr>\n",
       "  </thead>\n",
       "  <tbody>\n",
       "    <tr>\n",
       "      <th>0</th>\n",
       "      <td>EG On The Move</td>\n",
       "      <td>Junior Software Developer</td>\n",
       "      <td>Blackburn, England</td>\n",
       "      <td>24h</td>\n",
       "      <td>https://www.glassdoor.co.uk/partner/jobListing...</td>\n",
       "    </tr>\n",
       "    <tr>\n",
       "      <th>1</th>\n",
       "      <td>Propriotec</td>\n",
       "      <td>Junior/Mid Software Developer</td>\n",
       "      <td>Exeter, England</td>\n",
       "      <td>24h</td>\n",
       "      <td>https://www.glassdoor.co.uk/partner/jobListing...</td>\n",
       "    </tr>\n",
       "    <tr>\n",
       "      <th>2</th>\n",
       "      <td>Trison UK</td>\n",
       "      <td>Software Developer</td>\n",
       "      <td>Hertford, England</td>\n",
       "      <td>24h</td>\n",
       "      <td>https://www.glassdoor.co.uk/partner/jobListing...</td>\n",
       "    </tr>\n",
       "    <tr>\n",
       "      <th>3</th>\n",
       "      <td>Alfred H Knight Group</td>\n",
       "      <td>Software Developer</td>\n",
       "      <td>Liverpool, England</td>\n",
       "      <td>24h</td>\n",
       "      <td>https://www.glassdoor.co.uk/partner/jobListing...</td>\n",
       "    </tr>\n",
       "    <tr>\n",
       "      <th>4</th>\n",
       "      <td>Avon Hill Regeneration</td>\n",
       "      <td>Software Developer</td>\n",
       "      <td>Southam, West Midlands, England</td>\n",
       "      <td>6d</td>\n",
       "      <td>https://www.glassdoor.co.uk/partner/jobListing...</td>\n",
       "    </tr>\n",
       "    <tr>\n",
       "      <th>...</th>\n",
       "      <td>...</td>\n",
       "      <td>...</td>\n",
       "      <td>...</td>\n",
       "      <td>...</td>\n",
       "      <td>...</td>\n",
       "    </tr>\n",
       "    <tr>\n",
       "      <th>3131</th>\n",
       "      <td>Sysco International</td>\n",
       "      <td>Senior Director, Data Architect</td>\n",
       "      <td>London, England</td>\n",
       "      <td>4d</td>\n",
       "      <td>https://www.glassdoor.co.uk/partner/jobListing...</td>\n",
       "    </tr>\n",
       "    <tr>\n",
       "      <th>3132</th>\n",
       "      <td>Bloomberg</td>\n",
       "      <td>Senior Machine Learning Research Engineer - Ar...</td>\n",
       "      <td>London, England</td>\n",
       "      <td>4d</td>\n",
       "      <td>https://www.glassdoor.co.uk/partner/jobListing...</td>\n",
       "    </tr>\n",
       "    <tr>\n",
       "      <th>3133</th>\n",
       "      <td>Fitch Group</td>\n",
       "      <td>Lead Machine Learning Engineer, Associate Dire...</td>\n",
       "      <td>Manchester, England</td>\n",
       "      <td>24h</td>\n",
       "      <td>https://www.glassdoor.co.uk/partner/jobListing...</td>\n",
       "    </tr>\n",
       "    <tr>\n",
       "      <th>3134</th>\n",
       "      <td>Fitch Group</td>\n",
       "      <td>Senior Machine Learning Engineer, Manchester</td>\n",
       "      <td>Manchester, England</td>\n",
       "      <td>4d</td>\n",
       "      <td>https://www.glassdoor.co.uk/partner/jobListing...</td>\n",
       "    </tr>\n",
       "    <tr>\n",
       "      <th>3135</th>\n",
       "      <td>Choco</td>\n",
       "      <td>Staff ML / AI Engineer</td>\n",
       "      <td>London, England</td>\n",
       "      <td>6d</td>\n",
       "      <td>https://www.glassdoor.co.uk/partner/jobListing...</td>\n",
       "    </tr>\n",
       "  </tbody>\n",
       "</table>\n",
       "<p>3136 rows × 5 columns</p>\n",
       "</div>"
      ],
      "text/plain": [
       "                Company Name  \\\n",
       "0             EG On The Move   \n",
       "1                 Propriotec   \n",
       "2                  Trison UK   \n",
       "3      Alfred H Knight Group   \n",
       "4     Avon Hill Regeneration   \n",
       "...                      ...   \n",
       "3131     Sysco International   \n",
       "3132               Bloomberg   \n",
       "3133             Fitch Group   \n",
       "3134             Fitch Group   \n",
       "3135                   Choco   \n",
       "\n",
       "                                            Job Posting  \\\n",
       "0                             Junior Software Developer   \n",
       "1                         Junior/Mid Software Developer   \n",
       "2                                    Software Developer   \n",
       "3                                    Software Developer   \n",
       "4                                    Software Developer   \n",
       "...                                                 ...   \n",
       "3131                    Senior Director, Data Architect   \n",
       "3132  Senior Machine Learning Research Engineer - Ar...   \n",
       "3133  Lead Machine Learning Engineer, Associate Dire...   \n",
       "3134       Senior Machine Learning Engineer, Manchester   \n",
       "3135                             Staff ML / AI Engineer   \n",
       "\n",
       "                             Location Job Post date  \\\n",
       "0                  Blackburn, England           24h   \n",
       "1                     Exeter, England           24h   \n",
       "2                   Hertford, England           24h   \n",
       "3                  Liverpool, England           24h   \n",
       "4     Southam, West Midlands, England            6d   \n",
       "...                               ...           ...   \n",
       "3131                  London, England            4d   \n",
       "3132                  London, England            4d   \n",
       "3133              Manchester, England           24h   \n",
       "3134              Manchester, England            4d   \n",
       "3135                  London, England            6d   \n",
       "\n",
       "                                              Job links  \n",
       "0     https://www.glassdoor.co.uk/partner/jobListing...  \n",
       "1     https://www.glassdoor.co.uk/partner/jobListing...  \n",
       "2     https://www.glassdoor.co.uk/partner/jobListing...  \n",
       "3     https://www.glassdoor.co.uk/partner/jobListing...  \n",
       "4     https://www.glassdoor.co.uk/partner/jobListing...  \n",
       "...                                                 ...  \n",
       "3131  https://www.glassdoor.co.uk/partner/jobListing...  \n",
       "3132  https://www.glassdoor.co.uk/partner/jobListing...  \n",
       "3133  https://www.glassdoor.co.uk/partner/jobListing...  \n",
       "3134  https://www.glassdoor.co.uk/partner/jobListing...  \n",
       "3135  https://www.glassdoor.co.uk/partner/jobListing...  \n",
       "\n",
       "[3136 rows x 5 columns]"
      ]
     },
     "execution_count": 1436,
     "metadata": {},
     "output_type": "execute_result"
    }
   ],
   "source": [
    "glass_door = pd.DataFrame({'Company Name':companyname,'Job Posting':jobtitle,'Location':Location,'Job Post date':old_date,'Job links':job_link})\n",
    "glass_door"
   ]
  },
  {
   "cell_type": "code",
   "execution_count": 1482,
   "id": "39ec4636-564b-43c9-8daf-5ef4bcf7a647",
   "metadata": {},
   "outputs": [
    {
     "name": "stdin",
     "output_type": "stream",
     "text": [
      " 25 March all scrabbed.csv\n"
     ]
    }
   ],
   "source": [
    "# import os\n",
    "# glass_door.to_csv(os.path.join(\"C:\\\\Users\\\\amir\\\\OneDrive\\\\Desktop\\\\New Hiring lead process\\\\Using python\\\\All scrapped leads\", input()))"
   ]
  },
  {
   "cell_type": "code",
   "execution_count": 1476,
   "id": "6ee48fa3-6967-4224-a6c8-8211777ff546",
   "metadata": {},
   "outputs": [
    {
     "name": "stdout",
     "output_type": "stream",
     "text": [
      "https://www.glassdoor.co.uk/partner/jobListing.htm?pos=102&ao=1136043&s=58&guid=00000195cbeb801b9839a9075b9a2616&src=GD_JOB_AD&t=SR&vt=w&ea=1&cs=1_a3876636&cb=1742882963933&jobListingId=1009682552840&jrtk=5-yul1-0-1in5un02igctp800-c529ddcbe4ff3fe3\n"
     ]
    }
   ],
   "source": [
    "print(glass_door['Job links'][1])"
   ]
  },
  {
   "cell_type": "code",
   "execution_count": 1439,
   "id": "c5a7f29d-d24b-4918-ad23-51f2b0e8ced9",
   "metadata": {},
   "outputs": [],
   "source": [
    "# Old_gs_data = glass_door"
   ]
  },
  {
   "cell_type": "code",
   "execution_count": 1440,
   "id": "85ae8ce8-503f-4256-94bb-602db5d8f6d9",
   "metadata": {},
   "outputs": [],
   "source": [
    "# gdriver.close()"
   ]
  },
  {
   "cell_type": "code",
   "execution_count": 1441,
   "id": "783f01c2-275e-48af-bd96-c12e225e944f",
   "metadata": {},
   "outputs": [],
   "source": [
    "#Old_gs_data"
   ]
  },
  {
   "cell_type": "code",
   "execution_count": 1442,
   "id": "11f30464-a031-41e9-8c7a-1001df040977",
   "metadata": {},
   "outputs": [],
   "source": [
    "# final_glass = pd.concat([Old_gs_data, glass_door], axis = 0, ignore_index = True)\n",
    "# final_glass"
   ]
  },
  {
   "cell_type": "code",
   "execution_count": 1443,
   "id": "d5e67777-af5c-40af-95d2-8991df84d19c",
   "metadata": {},
   "outputs": [],
   "source": [
    "# final_glass.to_csv('C:\\\\Users\\\\amir\\\\OneDrive\\\\Desktop\\\\New Hiring lead process\\\\Using python\\\\Scapped data\\\\18 March glassdoor scrapped.csv')"
   ]
  },
  {
   "cell_type": "code",
   "execution_count": null,
   "id": "e06514dd-3684-48ab-a766-96b50da83b0d",
   "metadata": {},
   "outputs": [],
   "source": []
  },
  {
   "cell_type": "code",
   "execution_count": null,
   "id": "d7c60584-6a50-4f85-8990-350f54546da3",
   "metadata": {},
   "outputs": [],
   "source": []
  },
  {
   "cell_type": "code",
   "execution_count": null,
   "id": "57e44067-98a6-4b52-8b0b-c0dd5afd2fcb",
   "metadata": {},
   "outputs": [],
   "source": []
  }
 ],
 "metadata": {
  "kernelspec": {
   "display_name": "Python [conda env:base] *",
   "language": "python",
   "name": "conda-base-py"
  },
  "language_info": {
   "codemirror_mode": {
    "name": "ipython",
    "version": 3
   },
   "file_extension": ".py",
   "mimetype": "text/x-python",
   "name": "python",
   "nbconvert_exporter": "python",
   "pygments_lexer": "ipython3",
   "version": "3.12.7"
  }
 },
 "nbformat": 4,
 "nbformat_minor": 5
}
